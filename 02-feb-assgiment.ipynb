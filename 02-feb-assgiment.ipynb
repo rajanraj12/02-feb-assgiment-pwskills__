{
 "cells": [
  {
   "cell_type": "markdown",
   "id": "a6eac5d4-0c1a-427e-a4d1-466ada25c846",
   "metadata": {},
   "source": [
    "#Ques_1- Explain with an example each when to use a for loop and a while loop.\n",
    "## for loop\n",
    "In Python, the for loop is used to run a block of code for a certain number of times It is used to iterate over any sequences such as list, tuple, string, etc.\n",
    "## while loop\n",
    "Python while loop is used to run a block code until a certain condition is met\n"
   ]
  },
  {
   "cell_type": "code",
   "execution_count": 5,
   "id": "536741b9-6c4b-4d42-92d9-e3a547b70b8a",
   "metadata": {},
   "outputs": [
    {
     "name": "stdout",
     "output_type": "stream",
     "text": [
      "0\n",
      "1\n",
      "2\n",
      "3\n",
      "4\n",
      "5\n",
      "6\n",
      "7\n",
      "8\n",
      "9\n",
      "10\n"
     ]
    }
   ],
   "source": [
    "#example of for loop\n",
    "values= range(11)\n",
    "for ten in values:\n",
    "    print(ten)"
   ]
  },
  {
   "cell_type": "code",
   "execution_count": null,
   "id": "0c52d8b3-13ac-4582-94da-3fe5c959cc0e",
   "metadata": {},
   "outputs": [],
   "source": []
  },
  {
   "cell_type": "code",
   "execution_count": 6,
   "id": "86d8365e-5b70-4544-b100-8e7c6e5d1fb0",
   "metadata": {},
   "outputs": [
    {
     "name": "stdout",
     "output_type": "stream",
     "text": [
      "0\n",
      "1\n",
      "2\n",
      "3\n",
      "4\n",
      "5\n",
      "6\n",
      "7\n",
      "8\n",
      "9\n",
      "10\n"
     ]
    }
   ],
   "source": [
    "#example of while loop\n",
    "ten=0\n",
    "zero=10\n",
    "while ten <=10:\n",
    "    print(ten)\n",
    "    ten+=1"
   ]
  },
  {
   "cell_type": "markdown",
   "id": "0b2bbf72-5e0d-4703-870e-3c65307c515b",
   "metadata": {},
   "source": [
    "Ques_2-Write a python program to print the sum and product of the first 10 natural numbers using for\n",
    "and while loop."
   ]
  },
  {
   "cell_type": "code",
   "execution_count": null,
   "id": "1df8b1bf-81c4-4783-91f9-6baed0bb9d40",
   "metadata": {},
   "outputs": [],
   "source": [
    "#while loop sum of first 10 natural number.\n",
    "product=1\n",
    "Sum = 10\n",
    "sum_of_number = 0\n",
    "while (Sum <=10):\n",
    "    sum_of_number += Sum\n",
    "    Sum -= 1\n",
    "    product*=Sum\n",
    "print(\"the sum of first 10 nutural numbers is:\",sum_of_number)\n",
    "print(\"the product of the first 10 numbers is:\",product)"
   ]
  },
  {
   "cell_type": "code",
   "execution_count": 46,
   "id": "25881cb2-ec88-45ce-ba18-e4c46382bbef",
   "metadata": {},
   "outputs": [
    {
     "name": "stdout",
     "output_type": "stream",
     "text": [
      "the sum of first 10 nutural numbers is 55\n",
      "the product of the first 10 numbers is 3628800\n"
     ]
    }
   ],
   "source": [
    "#for loop sum of first 10 nutural number.\n",
    "l=[1,2,3,4,5,6,7,8,9,10]\n",
    "ten=0\n",
    "product=1\n",
    "for i in l:\n",
    "    ten = ten+i\n",
    "    product*=i\n",
    "print(\"the sum of first 10 nutural numbers is:\",ten)\n",
    "print(\"the product of the first 10 numbers is:\",product)  "
   ]
  },
  {
   "cell_type": "code",
   "execution_count": 46,
   "id": "6d9fa2d7-94af-432d-947e-5a2b90ed7ac1",
   "metadata": {},
   "outputs": [
    {
     "name": "stdout",
     "output_type": "stream",
     "text": [
      "the sum of first 10 nutural numbers is 55\n",
      "the product of the first 10 numbers is 3628800\n"
     ]
    }
   ],
   "source": [
    "#for loop sum of first 10 nutural number.\n",
    "l=[1,2,3,4,5,6,7,8,9,10]\n",
    "ten=0\n",
    "product=1\n",
    "for i in l:\n",
    "    ten = ten+i\n",
    "    product*=i\n",
    "print(\"the sum of first 10 nutural numbers is:\",ten)\n",
    "print(\"the product of the first 10 numbers is:\",product)  "
   ]
  },
  {
   "cell_type": "markdown",
   "id": "14bcf64b-4f83-4b6e-846d-8ae7b196afdb",
   "metadata": {},
   "source": [
    "##Q3. create a python program to compute electricity bill for a household.\n",
    "\"\"\"The per-unit charges in rupees are as follows: For the first 100 units, the user will be charged Rs. 4.5 per\n",
    "unit, for the next 100 units, the user will be charged Rs. 6 per unit, and for the next 100 units, the user will\n",
    "be charged Rs. 10 per unit, After 300 units and above the user will be charged Rs. 20 per unit\"\"\"\n",
    "You are required to take the units of electricity consumed in a month from the user as input.\n",
    "Your program must pass this test case: when the unit of electricity consumed by the user in a month is\n",
    "310, the total electricity bill should be 2250.\n"
   ]
  },
  {
   "cell_type": "code",
   "execution_count": 5,
   "id": "a52db726-d278-4b01-9366-e23098281f32",
   "metadata": {},
   "outputs": [
    {
     "name": "stdin",
     "output_type": "stream",
     "text": [
      "Enter the units of electricity consumed:  190\n"
     ]
    },
    {
     "name": "stdout",
     "output_type": "stream",
     "text": [
      "The total electricity bill is: Rs. 990.0\n"
     ]
    }
   ],
   "source": [
    "units = int(input(\"Enter the units of electricity consumed: \"))\n",
    "\n",
    "if units <= 100:\n",
    "    bill = units * 4.5\n",
    "elif units <= 200:\n",
    "    bill = 100 * 4.5 + (units - 100) * 6\n",
    "elif units <= 300:\n",
    "    bill = 100 * 4.5 + 100 * 6 + (units - 200) * 10\n",
    "else:\n",
    "    bill = 100 * 4.5 + 100 * 6 + 100 * 10 + (units - 300) * 20\n",
    "\n",
    "print(\"The total electricity bill is: Rs.\", bill)"
   ]
  },
  {
   "cell_type": "markdown",
   "id": "70de611a-7411-4439-88b3-1e2ac3581bd8",
   "metadata": {},
   "source": [
    "Q4. Create a list of numbers from 1 to 100. Use for loop and while loop to calculate the cube of each number and if the cube of that number is divisible by 4 or 5 then append that number in a list and print that list.\n",
    "\n",
    "Ans: Here is a program that uses a for loop to create a list of numbers from 1 to 100, and then calculates the cube of each number and appends the numbers that are divisible by 4 or 5 to a new list:"
   ]
  },
  {
   "cell_type": "code",
   "execution_count": 6,
   "id": "f9683d4d-ba96-45d8-9eb2-723fe3b42a2e",
   "metadata": {},
   "outputs": [
    {
     "name": "stdout",
     "output_type": "stream",
     "text": [
      "The list of cubes that are divisible by 4 or 5: [8, 64, 125, 216, 512, 1000, 1728, 2744, 3375, 4096, 5832, 8000, 10648, 13824, 15625, 17576, 21952, 27000, 32768, 39304, 42875, 46656, 54872, 64000, 74088, 85184, 91125, 97336, 110592, 125000, 140608, 157464, 166375, 175616, 195112, 216000, 238328, 262144, 274625, 287496, 314432, 343000, 373248, 405224, 421875, 438976, 474552, 512000, 551368, 592704, 614125, 636056, 681472, 729000, 778688, 830584, 857375, 884736, 941192, 1000000]\n"
     ]
    }
   ],
   "source": [
    "#Ans-4- with for loop \n",
    "numbers = []\n",
    "cube_divisible = []\n",
    "\n",
    "for i in range(1, 101):\n",
    "    numbers.append(i)\n",
    "    cube = i ** 3\n",
    "    if cube % 4 == 0 or cube % 5 == 0:\n",
    "        cube_divisible.append(cube)\n",
    "\n",
    "print(\"The list of cubes that are divisible by 4 or 5:\", cube_divisible)"
   ]
  },
  {
   "cell_type": "markdown",
   "id": "745a71cd-8d9d-4f0f-a277-850f31ea04bf",
   "metadata": {},
   "source": [
    "Q5. Write a program to filter count vowels in the below-given string. string = \"I want to become a data scientist\""
   ]
  },
  {
   "cell_type": "code",
   "execution_count": null,
   "id": "01e3e191-6a9b-49a1-a81c-d53a789f024e",
   "metadata": {},
   "outputs": [],
   "source": [
    "#Ans_5-\n",
    "string = \"I want to become a data scientist\"\n",
    "vowels = \"aeiouAEIOU\"\n",
    "count = 0\n",
    "\n",
    "for char in string:\n",
    "    if char in vowels:\n",
    "        count += 1\n",
    "\n",
    "print(\"The number of vowels in the string is:\", count)"
   ]
  }
 ],
 "metadata": {
  "kernelspec": {
   "display_name": "Python 3 (ipykernel)",
   "language": "python",
   "name": "python3"
  },
  "language_info": {
   "codemirror_mode": {
    "name": "ipython",
    "version": 3
   },
   "file_extension": ".py",
   "mimetype": "text/x-python",
   "name": "python",
   "nbconvert_exporter": "python",
   "pygments_lexer": "ipython3",
   "version": "3.10.6"
  }
 },
 "nbformat": 4,
 "nbformat_minor": 5
}
